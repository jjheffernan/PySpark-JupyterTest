{
 "cells": [
  {
   "cell_type": "markdown",
   "id": "52153cdd",
   "metadata": {},
   "source": [
    "# Welcome! \n",
    "## If you are reading this, you likely have things working\n",
    "\n",
    "If not, that's okay too! This Jupyter notebook will serve as a step-by-step guide to getting Pyspark running on your local machine. It's not foolproof though.\n",
    "\n",
    "# Getting Started\n",
    "\n",
    "### Installation\n",
    "1. Install Jupyter notebook `pip install jupyter`\n",
    "2. Install PySpark [version i use here](https://spark.apache.org/downloads.html)\n",
    "3. WARNING: This can be messed up, and requires `sudo`\n",
    " Navigate to your **root** directory, `cd /opt/` then `sudo mkdir spark` then `mv <spark-X.X.X hadoopstuff> /opt/spark-X.X.X` \n",
    "4. At this point you should have 2 spark directories within your /opt/ folder. \n",
    "5. The next step is to create a symbolic link `ln -s /opt/spark-2.3.0 /opt/spark̀`\n",
    " This symbolic link allows you to interact with pyspark in CLI like `% pyspark`. It overwrites the `spark-shell` but we will get into that later\n",
    "\n",
    "### Configuring CLI\n",
    "1. Now that we have the basics installed, we must further configure bash or zsh to recognize Spark. \n",
    "\n",
    "#### Bash\n",
    "\n",
    "Add the following code to your .bash_profile \n",
    "\n",
    "    export JAVA_HOME= $(/usr/libexec/java_home)\n",
    "    export SPARK_HOME=~/spark-2.3.0-bin-hadoop2.7\n",
    "    export PATH=$SPARK_HOME/bin:$PATH\n",
    "    export PYSPARK_PYTHON=python3\n",
    "\n",
    "\n",
    "#### zsh\n",
    "\n",
    "Add the following code to .zshrc\n",
    "\n",
    "    export SPARK_HOME=/opt/spark\n",
    "    export PATH=$SPARK_HOME/bin:$PATH\n",
    "    \n",
    "and\n",
    "\n",
    "    export SPARK_HOME=/opt/spark\n",
    "    export PATH=$SPARK_HOME/bin:$PATH\n",
    "    \n",
    "# now you should be good to go!"
   ]
  },
  {
   "cell_type": "code",
   "execution_count": null,
   "id": "c5fe9dee",
   "metadata": {},
   "outputs": [],
   "source": []
  }
 ],
 "metadata": {
  "kernelspec": {
   "display_name": "Python 3 (ipykernel)",
   "language": "python",
   "name": "python3"
  },
  "language_info": {
   "codemirror_mode": {
    "name": "ipython",
    "version": 3
   },
   "file_extension": ".py",
   "mimetype": "text/x-python",
   "name": "python",
   "nbconvert_exporter": "python",
   "pygments_lexer": "ipython3",
   "version": "3.8.9"
  }
 },
 "nbformat": 4,
 "nbformat_minor": 5
}
